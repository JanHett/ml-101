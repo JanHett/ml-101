{
 "metadata": {
  "language_info": {
   "codemirror_mode": {
    "name": "ipython",
    "version": 3
   },
   "file_extension": ".py",
   "mimetype": "text/x-python",
   "name": "python",
   "nbconvert_exporter": "python",
   "pygments_lexer": "ipython3",
   "version": "3.9.5"
  },
  "orig_nbformat": 2,
  "kernelspec": {
   "name": "python3",
   "display_name": "Python 3",
   "language": "python"
  }
 },
 "nbformat": 4,
 "nbformat_minor": 2,
 "cells": [
  {
   "source": [
    "# Scrabble\n",
    "\n",
    "This is the official way of determining [The Ultimate Question](https://hitchhikers.fandom.com/wiki/Ultimate_Question).\n",
    "\n",
    "Press the play button to run it."
   ],
   "cell_type": "markdown",
   "metadata": {}
  },
  {
   "cell_type": "code",
   "execution_count": null,
   "metadata": {},
   "outputs": [],
   "source": [
    "stones = [c for c in \"?enin yb xis ylpitlum uoy fi teg uoy od tahW\"]\n",
    "\n",
    "def draw_stone():\n",
    "    return stones.pop()\n",
    "\n",
    "question = \"\"\n",
    "\n",
    "while len(stones):\n",
    "    question = question + draw_stone()\n",
    "\n",
    "print(question)"
   ]
  },
  {
   "source": [],
   "cell_type": "markdown",
   "metadata": {}
  }
 ]
}